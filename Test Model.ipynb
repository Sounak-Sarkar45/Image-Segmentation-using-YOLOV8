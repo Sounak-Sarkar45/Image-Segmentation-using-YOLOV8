{
 "cells": [
  {
   "cell_type": "code",
   "execution_count": 1,
   "id": "49773e78-8c93-4888-b7d6-4d6fd3688db9",
   "metadata": {},
   "outputs": [],
   "source": [
    "from ultralytics import YOLO\n",
    "import cv2"
   ]
  },
  {
   "cell_type": "code",
   "execution_count": 4,
   "id": "b96c805a-42c5-4941-9e7c-2169affc1779",
   "metadata": {},
   "outputs": [],
   "source": [
    "model_path = 'D:/Environments/Projects/Image Segmentation using YOLOV8/runs/segment/train2/weights/last.pt'\n",
    "image_path = 'D:/Environments/Projects/Image Segmentation using YOLOV8/content/data/images/train/00dc1d899a2313b9.jpg'"
   ]
  },
  {
   "cell_type": "code",
   "execution_count": 5,
   "id": "222b0341-33df-41ae-bcce-c3ee4f83c322",
   "metadata": {},
   "outputs": [
    {
     "name": "stdout",
     "output_type": "stream",
     "text": [
      "\n",
      "0: 448x640 2 ducks, 199.2ms\n",
      "Speed: 6.7ms preprocess, 199.2ms inference, 1.4ms postprocess per image at shape (1, 3, 448, 640)\n"
     ]
    }
   ],
   "source": [
    "img = cv2.imread(image_path)\n",
    "H, W, _ = img.shape\n",
    "\n",
    "model = YOLO(model_path)\n",
    "\n",
    "results = model(img)\n",
    "\n",
    "for result in results:\n",
    "    for j, mask in enumerate(result.masks.data):\n",
    "\n",
    "        mask = mask.numpy() * 255\n",
    "\n",
    "        mask = cv2.resize(mask, (W, H))\n",
    "\n",
    "        cv2.imwrite('./output.png', mask)"
   ]
  }
 ],
 "metadata": {
  "kernelspec": {
   "display_name": "Python 3 (ipykernel)",
   "language": "python",
   "name": "python3"
  },
  "language_info": {
   "codemirror_mode": {
    "name": "ipython",
    "version": 3
   },
   "file_extension": ".py",
   "mimetype": "text/x-python",
   "name": "python",
   "nbconvert_exporter": "python",
   "pygments_lexer": "ipython3",
   "version": "3.9.21"
  }
 },
 "nbformat": 4,
 "nbformat_minor": 5
}
